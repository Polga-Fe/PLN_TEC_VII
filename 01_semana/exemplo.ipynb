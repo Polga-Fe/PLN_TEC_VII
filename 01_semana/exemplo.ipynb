{
 "cells": [
  {
   "cell_type": "code",
   "execution_count": 13,
   "metadata": {
    "dotnet_interactive": {
     "language": "csharp"
    },
    "polyglot_notebook": {
     "kernelName": "csharp"
    }
   },
   "outputs": [],
   "source": [
    "import os\n",
    "import os.path as path\n",
    "import pandas as pd\n",
    "import requests\n",
    "from bs4 import BeautifulSoup\n",
    "import time\n"
   ]
  },
  {
   "cell_type": "code",
   "execution_count": 14,
   "metadata": {},
   "outputs": [],
   "source": [
    "def baseArchive():\n",
    "    basePath = os.path.join(os.getcwd(), 'db', 'dataExample.csv')\n",
    "    os.makedirs(os.path.dirname(basePath), exist_ok=True)\n",
    "    if not os.path.exists(basePath):\n",
    "        with open(basePath, 'w', encoding='utf-8') as baseArchive:\n",
    "            baseArchive.write('seção,subtitulo,post\\n')  # Cabeçalho compatível com os dados\n",
    "    return basePath\n"
   ]
  },
  {
   "cell_type": "code",
   "execution_count": 15,
   "metadata": {},
   "outputs": [],
   "source": [
    "def readArchive():\n",
    "    with open(baseArchive(), 'r', encoding='utf-8') as archive:\n",
    "        data = archive.readlines()\n",
    "    return data"
   ]
  },
  {
   "cell_type": "code",
   "execution_count": 16,
   "metadata": {},
   "outputs": [],
   "source": [
    "with open('E:/ESTUDOS/UFPel/TEC_VII/01_SEMANA/exemplo.html', 'r', encoding='utf-8') as file:\n",
    "    html_content = file.read()\n"
   ]
  },
  {
   "cell_type": "code",
   "execution_count": 17,
   "metadata": {},
   "outputs": [
    {
     "name": "stdout",
     "output_type": "stream",
     "text": [
      "<!DOCTYPE html>\n",
      "<html lang=\"pt-br\">\n",
      "<head>\n",
      "    <meta charset=\"UTF-8\">\n",
      "    <meta name=\"viewport\" content=\"width=device-width, initial-scale=1.0\">\n",
      "    <title>Portal de Videogames</title>\n",
      "</head>\n",
      "<body>\n",
      "    <header>\n",
      "        <h1>Bem-vindo ao Portal de Videogames</h1>\n",
      "        <nav>\n",
      "            <ul>\n",
      "                <li><a href=\"#ultimas-noticias\">Ãltimas NotÃ­cias</a></li>\n",
      "                <li><a href=\"#analises\">AnÃ¡lises</a></li>\n",
      "                <li><a href=\"#videos\">VÃ­deos</a></li>\n",
      "            </ul>\n",
      "        </nav>\n",
      "    </header>\n",
      "\n",
      "    <section id=\"ultimas-noticias\">\n",
      "        <h2>Ãltimas NotÃ­cias</h2>\n",
      "        <article>\n",
      "            <h3>Novo LanÃ§amento: \"Cyberpunk 2077\"</h3>\n",
      "            <p>O altamente aguardado jogo \"Cyberpunk 2077\" jÃ¡ estÃ¡ disponÃ­vel para compra. Confira as anÃ¡lises!</p>\n",
      "        </article>\n",
      "\n",
      "        <article>\n",
      "            <h3>AtualizaÃ§Ã£o de \"Fortnite\"</h3>\n",
      "            <p>A mais recente atualizaÃ§Ã£o de \"Fortnite\" traz novos modos de jogo e skins exclusivas.</p>\n",
      "        </article>\n",
      "    </section>\n",
      "\n",
      "    <section id=\"analises\">\n",
      "        <h2>AnÃ¡lises</h2>\n",
      "        <article>\n",
      "            <h3>AnÃ¡lise de \"The Last of Us Part II\"</h3>\n",
      "            <p>Confira nossa anÃ¡lise completa do jogo \"The Last of Us Part II\" e descubra por que ele Ã© um sucesso.</p>\n",
      "        </article>\n",
      "\n",
      "        <article>\n",
      "            <h3>AnÃ¡lise de \"Assassin's Creed Valhalla\"</h3>\n",
      "            <p>Saiba o que achamos do jogo \"Assassin's Creed Valhalla\" em nossa anÃ¡lise detalhada.</p>\n",
      "        </article>\n",
      "    </section>\n",
      "\n",
      "    <section id=\"videos\">\n",
      "        <h2>VÃ­deos</h2>\n",
      "        <article>\n",
      "            <h3>Gameplay de \"Red Dead Redemption 2\"</h3>\n",
      "            <p>Assista ao nosso gameplay exclusivo de \"Red Dead Redemption 2\" e veja como o jogo se destaca.</p>\n",
      "        </article>\n",
      "\n",
      "        <article>\n",
      "            <h3>Entrevista com Desenvolvedores de \"Halo Infinite\"</h3>\n",
      "            <p>Confira nossa entrevista exclusiva com os desenvolvedores de \"Halo Infinite\" e saiba mais sobre o jogo.</p>\n",
      "        </article>\n",
      "    </section>\n",
      "\n",
      "    <footer>\n",
      "        <p>&copy; 2023 Portal de Videogames</p>\n",
      "    </footer>\n",
      "</body>\n",
      "</html>\n",
      "\n"
     ]
    }
   ],
   "source": [
    "url_base = 'http://localhost:8000/exemplo.html'\n",
    "\n",
    "headers = {\n",
    "    'User-Agent': 'Mozilla/5.0 (Windows NT 10.0; Win64; x64) AppleWebKit/537.36 (KHTML, like Gecko) Chrome/107.0.0.0 Safari/537.36'\n",
    "}\n",
    "\n",
    "model_url = requests.get(url_base, headers=headers)\n",
    "print(model_url.text)\n"
   ]
  },
  {
   "cell_type": "code",
   "execution_count": 18,
   "metadata": {},
   "outputs": [
    {
     "name": "stdout",
     "output_type": "stream",
     "text": [
      "Portal de Videogames\n"
     ]
    }
   ],
   "source": [
    "with open('E:/ESTUDOS/UFPel/TEC_VII/01_SEMANA/exemplo.html', 'r', encoding='utf-8') as file:\n",
    "    html_content = file.read()\n",
    "\n",
    "soup = BeautifulSoup(html_content, 'html.parser')\n",
    "print(soup.title.text)\n",
    "\n"
   ]
  },
  {
   "cell_type": "markdown",
   "metadata": {},
   "source": [
    "header - h1\n",
    "section - h2\n",
    "        - article - h3\n",
    "                  - p"
   ]
  },
  {
   "cell_type": "code",
   "execution_count": 19,
   "metadata": {},
   "outputs": [],
   "source": [
    "def get_info(model_url):\n",
    "    response = requests.get(model_url)\n",
    "    if response.status_code != 200:\n",
    "        print(f\"Erro ao acessar {model_url}: {response.status_code}\")\n",
    "        return None  # Retorna None se houver um erro na requisição\n",
    "\n",
    "    soup = BeautifulSoup(response.content, 'html.parser')\n",
    "\n",
    "    header = soup.find('h1').text.strip() if soup.find('h1') else 'N/A'\n",
    "    print(f\"Coletando dados de: {header}\")  # Mostra o nome do modelo sendo coletado\n",
    "\n",
    "    example_data = []\n",
    "\n",
    "    sections = soup.find_all('section')\n",
    "    for section in sections:\n",
    "        seccion = section.find('h2').text.strip() if section.find('h2') else 'N/A'\n",
    "        \n",
    "        # Iterando sobre os artigos dentro de cada seção\n",
    "        articles = section.find_all('article')\n",
    "        for article in articles:\n",
    "            subtitule = article.find('h3').text.strip() if article.find('h3') else 'N/A'\n",
    "            describe = article.find('p').text.strip() if article.find('p') else 'N/A'\n",
    "\n",
    "            example_data.append({\n",
    "                'seção': seccion,\n",
    "                'subtitulo': subtitule,\n",
    "                'post': describe,\n",
    "            })\n",
    "\n",
    "    return example_data"
   ]
  },
  {
   "cell_type": "code",
   "execution_count": 20,
   "metadata": {},
   "outputs": [],
   "source": [
    "def saveData(data, filename=None):\n",
    "    if filename is None:\n",
    "        filename = baseArchive()  # Usa o arquivo padrão se nenhum nome for fornecido\n",
    "\n",
    "    # Cria o DataFrame com os dados\n",
    "    df = pd.DataFrame(data)\n",
    "\n",
    "    try:\n",
    "        # Verifica se o arquivo já existe\n",
    "        if os.path.exists(filename):\n",
    "            # Lê o cabeçalho do arquivo existente para verificar a compatibilidade\n",
    "            existing_df = pd.read_csv(filename, nrows=0)\n",
    "            if list(existing_df.columns) != list(df.columns):\n",
    "                raise ValueError(\"As colunas do novo DataFrame não correspondem ao arquivo existente.\")\n",
    "        \n",
    "        # Salva os dados no arquivo (adiciona ao final se já existir)\n",
    "        df.to_csv(filename, mode='a', header=not os.path.exists(filename), index=False)\n",
    "        print(f\"Dados salvos no arquivo '{filename}' com sucesso!\")\n",
    "    except Exception as e:\n",
    "        print(f\"Erro ao salvar dados: {e}\")\n"
   ]
  },
  {
   "cell_type": "code",
   "execution_count": 21,
   "metadata": {},
   "outputs": [
    {
     "name": "stdout",
     "output_type": "stream",
     "text": [
      "Coletando dados de: Bem-vindo ao Portal de Videogames\n",
      "Dados salvos no arquivo 'e:\\CODES_01\\PYTHON\\NPL\\PLN_TEC_VII\\01_semana\\db\\dataExample.csv' com sucesso!\n"
     ]
    }
   ],
   "source": [
    "if __name__ == '__main__':\n",
    "    # Certifique-se de que o servidor local está rodando com a URL fornecida\n",
    "    url_base = 'http://localhost:8000/exemplo.html'\n",
    "    data = get_info(url_base)\n",
    "\n",
    "    if data:\n",
    "        saveData(data)"
   ]
  }
 ],
 "metadata": {
  "kernelspec": {
   "display_name": "Python 3",
   "language": "python",
   "name": "python3"
  },
  "language_info": {
   "codemirror_mode": {
    "name": "ipython",
    "version": 3
   },
   "file_extension": ".py",
   "mimetype": "text/x-python",
   "name": "python",
   "nbconvert_exporter": "python",
   "pygments_lexer": "ipython3",
   "version": "3.12.7"
  },
  "polyglot_notebook": {
   "kernelInfo": {
    "defaultKernelName": "csharp",
    "items": [
     {
      "aliases": [],
      "name": "csharp"
     }
    ]
   }
  }
 },
 "nbformat": 4,
 "nbformat_minor": 2
}
