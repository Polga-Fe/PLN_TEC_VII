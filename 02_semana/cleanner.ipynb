{
 "cells": [
  {
   "cell_type": "code",
   "execution_count": 2,
   "metadata": {},
   "outputs": [],
   "source": [
    "import pandas as pd\n",
    "import numpy as np\n",
    "import matplotlib.pyplot as plt\n",
    "import seaborn as sns"
   ]
  },
  {
   "cell_type": "code",
   "execution_count": 3,
   "metadata": {},
   "outputs": [
    {
     "data": {
      "text/html": [
       "<div>\n",
       "<style scoped>\n",
       "    .dataframe tbody tr th:only-of-type {\n",
       "        vertical-align: middle;\n",
       "    }\n",
       "\n",
       "    .dataframe tbody tr th {\n",
       "        vertical-align: top;\n",
       "    }\n",
       "\n",
       "    .dataframe thead th {\n",
       "        text-align: right;\n",
       "    }\n",
       "</style>\n",
       "<table border=\"1\" class=\"dataframe\">\n",
       "  <thead>\n",
       "    <tr style=\"text-align: right;\">\n",
       "      <th></th>\n",
       "      <th>professor</th>\n",
       "      <th>projeto</th>\n",
       "      <th>resumo</th>\n",
       "    </tr>\n",
       "  </thead>\n",
       "  <tbody>\n",
       "    <tr>\n",
       "      <th>0</th>\n",
       "      <td>ADRIANA BORDINI</td>\n",
       "      <td>ExpPC Explorando o Pensamento Computacional pa...</td>\n",
       "      <td>A falta de profissionais bem formados e de mão...</td>\n",
       "    </tr>\n",
       "    <tr>\n",
       "      <th>1</th>\n",
       "      <td>ADRIANA BORDINI</td>\n",
       "      <td>ExpPC Explorando o Pensamento Computacional pa...</td>\n",
       "      <td>A falta de profissionais bem formados e de mão...</td>\n",
       "    </tr>\n",
       "    <tr>\n",
       "      <th>2</th>\n",
       "      <td>ALAN CARLOS JUNIOR ROSSETTO</td>\n",
       "      <td>Desenvolvimento de metodologias e de ferrament...</td>\n",
       "      <td>Desenvolvimento de ferramentas e metodologias ...</td>\n",
       "    </tr>\n",
       "    <tr>\n",
       "      <th>3</th>\n",
       "      <td>ALAN CARLOS JUNIOR ROSSETTO</td>\n",
       "      <td>Análise, simulação e caracterização de efeitos...</td>\n",
       "      <td>Este projeto detalha as atividades a serem con...</td>\n",
       "    </tr>\n",
       "    <tr>\n",
       "      <th>4</th>\n",
       "      <td>ALAN CARLOS JUNIOR ROSSETTO</td>\n",
       "      <td>MIPWise: ‘Inteligência Artificial das Coisas’ ...</td>\n",
       "      <td>Um dos desafios da agricultura é o aprimoramen...</td>\n",
       "    </tr>\n",
       "  </tbody>\n",
       "</table>\n",
       "</div>"
      ],
      "text/plain": [
       "                     professor  \\\n",
       "0              ADRIANA BORDINI   \n",
       "1              ADRIANA BORDINI   \n",
       "2  ALAN CARLOS JUNIOR ROSSETTO   \n",
       "3  ALAN CARLOS JUNIOR ROSSETTO   \n",
       "4  ALAN CARLOS JUNIOR ROSSETTO   \n",
       "\n",
       "                                             projeto  \\\n",
       "0  ExpPC Explorando o Pensamento Computacional pa...   \n",
       "1  ExpPC Explorando o Pensamento Computacional pa...   \n",
       "2  Desenvolvimento de metodologias e de ferrament...   \n",
       "3  Análise, simulação e caracterização de efeitos...   \n",
       "4  MIPWise: ‘Inteligência Artificial das Coisas’ ...   \n",
       "\n",
       "                                              resumo  \n",
       "0  A falta de profissionais bem formados e de mão...  \n",
       "1  A falta de profissionais bem formados e de mão...  \n",
       "2  Desenvolvimento de ferramentas e metodologias ...  \n",
       "3  Este projeto detalha as atividades a serem con...  \n",
       "4  Um dos desafios da agricultura é o aprimoramen...  "
      ]
     },
     "execution_count": 3,
     "metadata": {},
     "output_type": "execute_result"
    }
   ],
   "source": [
    "df = pd.read_csv('db/dataProjs.csv', sep=',')\n",
    "df.head()"
   ]
  },
  {
   "cell_type": "code",
   "execution_count": 14,
   "metadata": {},
   "outputs": [],
   "source": [
    "x = df['projeto'].value_counts()"
   ]
  },
  {
   "cell_type": "code",
   "execution_count": 15,
   "metadata": {},
   "outputs": [
    {
     "name": "stdout",
     "output_type": "stream",
     "text": [
      "Valores maiores que 1 encontrados:\n",
      "projeto\n",
      "Ciência da Computação (Bacharelado)                                                                                                                                                70\n",
      "Engenharia de Computação (Bacharelado)                                                                                                                                             35\n",
      "Programa de Monitoria da UFPEL                                                                                                                                                     34\n",
      "Engenharia Agrícola (Bacharelado)                                                                                                                                                  28\n",
      "Talk Science: divulgação da ciência e da Biotecnologia                                                                                                                             22\n",
      "                                                                                                                                                                                   ..\n",
      "Plataforma Biotecnológica Oncopig Bladder Cancer (OBC): um modelo editado por CRISPRs/Cas                                                                                           2\n",
      "OncopigCell Biotech Screening: P&D de um sistema biológico alternativo para o estudo do câncer e nanotoxicologia                                                                    2\n",
      "PROGRAMAÇÃO DE COMPUTADORES                                                                                                                                                         2\n",
      "Ações de integralização e acolhimento para os estudantes ingressantes do curso de Engenharia de Materiais                                                                           2\n",
      "Brazilian Diabetic Retinopathy Image Dataset (BDR-ID): Um banco de imagens de fundo do olho para pesquisa em segmentação e detecção de lesões associada à retinopatia diabética     2\n",
      "Name: count, Length: 257, dtype: int64\n"
     ]
    }
   ],
   "source": [
    "# Checagem de valores maiores que 1\n",
    "valores_maiores_que_1 = x[x > 1]\n",
    "if not valores_maiores_que_1.empty:\n",
    "    print(\"Valores maiores que 1 encontrados:\")\n",
    "    print(valores_maiores_que_1)"
   ]
  },
  {
   "cell_type": "code",
   "execution_count": 16,
   "metadata": {},
   "outputs": [],
   "source": [
    "# Checagem de valores nulos\n",
    "valores_nulos = df['projeto'].isnull().sum()\n",
    "if valores_nulos > 0:\n",
    "    print(f\"Existem {valores_nulos} valores nulos na coluna 'projeto'.\")"
   ]
  },
  {
   "cell_type": "markdown",
   "metadata": {},
   "source": [
    "## limpeza de valores nulos (?)"
   ]
  },
  {
   "cell_type": "code",
   "execution_count": null,
   "metadata": {},
   "outputs": [],
   "source": []
  },
  {
   "cell_type": "markdown",
   "metadata": {},
   "source": [
    "##  Tokenização"
   ]
  },
  {
   "cell_type": "markdown",
   "metadata": {},
   "source": [
    "## Normalização\n"
   ]
  },
  {
   "cell_type": "markdown",
   "metadata": {},
   "source": [
    "## Remoção de Stopwords\n"
   ]
  },
  {
   "cell_type": "markdown",
   "metadata": {},
   "source": [
    "## Stemming"
   ]
  },
  {
   "cell_type": "markdown",
   "metadata": {},
   "source": [
    "## Lematização\n"
   ]
  }
 ],
 "metadata": {
  "kernelspec": {
   "display_name": "Python 3",
   "language": "python",
   "name": "python3"
  },
  "language_info": {
   "codemirror_mode": {
    "name": "ipython",
    "version": 3
   },
   "file_extension": ".py",
   "mimetype": "text/x-python",
   "name": "python",
   "nbconvert_exporter": "python",
   "pygments_lexer": "ipython3",
   "version": "3.12.7"
  }
 },
 "nbformat": 4,
 "nbformat_minor": 2
}
